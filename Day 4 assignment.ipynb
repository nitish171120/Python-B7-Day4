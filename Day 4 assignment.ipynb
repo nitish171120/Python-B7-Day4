{
  "nbformat": 4,
  "nbformat_minor": 0,
  "metadata": {
    "colab": {
      "name": "B7_Assignment__Day4.ipynb.txt",
      "provenance": [],
      "collapsed_sections": []
    },
    "kernelspec": {
      "name": "python3",
      "display_name": "Python 3"
    }
  },
  "cells": [
    {
      "cell_type": "markdown",
      "metadata": {
        "id": "HcAs3CGx6S-N",
        "colab_type": "text"
      },
      "source": [
        "**#Print First Armstrong Number**"
      ]
    },
    {
      "cell_type": "code",
      "metadata": {
        "id": "3sb7D7Xr59h1",
        "colab_type": "code",
        "colab": {
          "base_uri": "https://localhost:8080/",
          "height": 34
        },
        "outputId": "b28d86b6-2e4c-4881-dba5-34a67128518a"
      },
      "source": [
        "lower=1042000\n",
        "upper=702648256\n",
        "\n",
        "for number in range(lower,upper+1):\n",
        "  order=len(str(number))\n",
        "  sum=0\n",
        "  temp=number\n",
        "  while temp>0:\n",
        "    digit=temp%10\n",
        "    sum+=digit**order\n",
        "    temp//=10\n",
        "\n",
        "  if number==sum:\n",
        "    break\n",
        "print(number)"
      ],
      "execution_count": 1,
      "outputs": [
        {
          "output_type": "stream",
          "text": [
            "1741725\n"
          ],
          "name": "stdout"
        }
      ]
    },
    {
      "cell_type": "code",
      "metadata": {
        "id": "AecaPCst9ceY",
        "colab_type": "code",
        "colab": {}
      },
      "source": [
        ""
      ],
      "execution_count": null,
      "outputs": []
    }
  ]
}